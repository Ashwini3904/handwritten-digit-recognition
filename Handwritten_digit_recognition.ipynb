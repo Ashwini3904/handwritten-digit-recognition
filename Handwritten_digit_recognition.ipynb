{
 "cells": [
  {
   "cell_type": "code",
   "execution_count": 10,
   "id": "c75f7288",
   "metadata": {},
   "outputs": [
    {
     "name": "stdout",
     "output_type": "stream",
     "text": [
      "saved...... 0\n",
      "clear screen now and redraw now........\n",
      "saved...... 1\n",
      "clear screen now and redraw now........\n",
      "saved...... 2\n",
      "clear screen now and redraw now........\n",
      "saved...... 3\n",
      "clear screen now and redraw now........\n",
      "saved...... 4\n",
      "clear screen now and redraw now........\n",
      "saved...... 5\n",
      "clear screen now and redraw now........\n",
      "saved...... 6\n",
      "clear screen now and redraw now........\n",
      "saved...... 7\n",
      "clear screen now and redraw now........\n",
      "saved...... 8\n",
      "clear screen now and redraw now........\n",
      "saved...... 9\n",
      "clear screen now and redraw now........\n",
      "saved...... 10\n",
      "clear screen now and redraw now........\n",
      "saved...... 11\n",
      "clear screen now and redraw now........\n",
      "saved...... 12\n",
      "clear screen now and redraw now........\n",
      "saved...... 13\n",
      "clear screen now and redraw now........\n",
      "saved...... 14\n",
      "clear screen now and redraw now........\n",
      "saved...... 15\n",
      "clear screen now and redraw now........\n",
      "saved...... 16\n",
      "clear screen now and redraw now........\n",
      "saved...... 17\n",
      "clear screen now and redraw now........\n",
      "saved...... 18\n",
      "clear screen now and redraw now........\n",
      "saved...... 19\n",
      "clear screen now and redraw now........\n",
      "saved...... 20\n",
      "clear screen now and redraw now........\n",
      "saved...... 21\n",
      "clear screen now and redraw now........\n",
      "saved...... 22\n",
      "clear screen now and redraw now........\n",
      "saved...... 23\n",
      "clear screen now and redraw now........\n",
      "saved...... 24\n",
      "clear screen now and redraw now........\n",
      "saved...... 25\n",
      "clear screen now and redraw now........\n",
      "saved...... 26\n",
      "clear screen now and redraw now........\n",
      "saved...... 27\n",
      "clear screen now and redraw now........\n",
      "saved...... 28\n",
      "clear screen now and redraw now........\n",
      "saved...... 29\n",
      "clear screen now and redraw now........\n",
      "saved...... 30\n",
      "clear screen now and redraw now........\n",
      "saved...... 31\n",
      "clear screen now and redraw now........\n",
      "saved...... 32\n",
      "clear screen now and redraw now........\n",
      "saved...... 33\n",
      "clear screen now and redraw now........\n",
      "saved...... 34\n",
      "clear screen now and redraw now........\n",
      "saved...... 35\n",
      "clear screen now and redraw now........\n",
      "saved...... 36\n",
      "clear screen now and redraw now........\n",
      "saved...... 37\n",
      "clear screen now and redraw now........\n",
      "saved...... 38\n",
      "clear screen now and redraw now........\n",
      "saved...... 39\n",
      "clear screen now and redraw now........\n",
      "saved...... 40\n",
      "clear screen now and redraw now........\n",
      "saved...... 41\n",
      "clear screen now and redraw now........\n",
      "saved...... 42\n",
      "clear screen now and redraw now........\n",
      "saved...... 43\n",
      "clear screen now and redraw now........\n",
      "saved...... 44\n",
      "clear screen now and redraw now........\n",
      "saved...... 45\n",
      "clear screen now and redraw now........\n",
      "saved...... 46\n",
      "clear screen now and redraw now........\n",
      "saved...... 47\n",
      "clear screen now and redraw now........\n",
      "saved...... 48\n",
      "clear screen now and redraw now........\n",
      "saved...... 49\n",
      "clear screen now and redraw now........\n"
     ]
    }
   ],
   "source": [
    "    import pyscreenshot as ImageGrab\n",
    "    import time\n",
    "    images_folder=\"captured_images/9/\"  \n",
    "    for i in range(0,50):\n",
    "        time.sleep(8)\n",
    "        im=ImageGrab.grab(bbox=(60,170,400,550)) #x1,y1,x2,y2\n",
    "        print(\"saved......\",i)\n",
    "        im.save(images_folder+str(i)+'.png')\n",
    "        print(\"clear screen now and redraw now........\")"
   ]
  },
  {
   "cell_type": "code",
   "execution_count": 11,
   "id": "30023085",
   "metadata": {},
   "outputs": [
    {
     "name": "stdout",
     "output_type": "stream",
     "text": [
      "HEllo\n"
     ]
    }
   ],
   "source": []
  },
  {
   "cell_type": "code",
   "execution_count": 13,
   "id": "85a752ce",
   "metadata": {},
   "outputs": [],
   "source": [
    "#Generate dataset\n",
    "import cv2\n",
    "import csv\n",
    "import glob\n",
    "  \n",
    "header  =[\"label\"]\n",
    "for i in range(0,784):\n",
    "   header.append(\"pixel\"+str(i))\n",
    "with open('dataset.csv', 'a') as f:\n",
    "   writer = csv.writer(f)\n",
    "   writer.writerow(header)\n",
    "    \n",
    "for label in range(10):\n",
    "   dirList = glob.glob(\"captured_images/\"+str(label)+\"/*.png\")\n",
    "    \n",
    "   for img_path in dirList:\n",
    "       im= cv2.imread(img_path)\n",
    "       im_gray = cv2.cvtColor(im,cv2.COLOR_BGR2GRAY)\n",
    "       im_gray = cv2.GaussianBlur(im_gray,(15,15), 0)\n",
    "       roi= cv2.resize(im_gray,(28,28), interpolation=cv2.INTER_AREA)\n",
    "        \n",
    "       data=[]\n",
    "       data.append(label)\n",
    "       rows, cols = roi.shape\n",
    "        \n",
    "       ## Fill the data array with pixels one by one.\n",
    "       for i in range(rows):\n",
    "           for j in range(cols):\n",
    "               k =roi[i,j]\n",
    "               if k>100:\n",
    "                   k=1\n",
    "               else:\n",
    "                   k=0\n",
    "               data.append(k)\n",
    "       with open('dataset.csv', 'a') as f:\n",
    "           writer = csv.writer(f)\n",
    "           writer.writerow(data)"
   ]
  },
  {
   "cell_type": "code",
   "execution_count": 15,
   "id": "bc2ac4a7",
   "metadata": {},
   "outputs": [
    {
     "name": "stdout",
     "output_type": "stream",
     "text": [
      "     label  pixel0  pixel1  pixel2  pixel3  pixel4  pixel5  pixel6  pixel7  \\\n",
      "473      9       1       1       1       1       1       1       1       1   \n",
      "8        0       1       1       1       1       1       1       1       1   \n",
      "483      9       1       1       1       1       1       1       1       1   \n",
      "88       1       1       1       1       1       1       1       1       1   \n",
      "253      5       1       1       1       1       1       1       1       1   \n",
      "..     ...     ...     ...     ...     ...     ...     ...     ...     ...   \n",
      "189      3       1       1       1       1       1       1       1       1   \n",
      "58       1       1       1       1       1       1       1       1       1   \n",
      "158      3       1       1       1       1       1       1       1       1   \n",
      "449      8       1       1       1       1       1       1       1       1   \n",
      "431      8       1       1       1       1       1       1       1       1   \n",
      "\n",
      "     pixel8  ...  pixel774  pixel775  pixel776  pixel777  pixel778  pixel779  \\\n",
      "473       1  ...         0         0         0         0         0         0   \n",
      "8         1  ...         0         0         0         0         0         0   \n",
      "483       1  ...         0         0         0         0         0         0   \n",
      "88        1  ...         0         0         0         0         0         0   \n",
      "253       1  ...         0         0         0         0         0         0   \n",
      "..      ...  ...       ...       ...       ...       ...       ...       ...   \n",
      "189       1  ...         0         0         0         0         0         0   \n",
      "58        1  ...         0         0         0         0         0         0   \n",
      "158       1  ...         0         0         0         0         0         0   \n",
      "449       1  ...         0         0         0         0         0         0   \n",
      "431       1  ...         0         0         0         0         0         0   \n",
      "\n",
      "     pixel780  pixel781  pixel782  pixel783  \n",
      "473         0         0         0         0  \n",
      "8           0         0         0         0  \n",
      "483         0         0         0         0  \n",
      "88          0         0         0         0  \n",
      "253         0         0         0         0  \n",
      "..        ...       ...       ...       ...  \n",
      "189         0         0         0         0  \n",
      "58          0         0         0         0  \n",
      "158         0         0         0         0  \n",
      "449         0         0         0         0  \n",
      "431         0         0         0         0  \n",
      "\n",
      "[500 rows x 785 columns]\n"
     ]
    }
   ],
   "source": [
    "import pandas as pd #pip install pandas\n",
    "from sklearn.utils import shuffle #pip install scikit-learn\n",
    "#0,....,1.....,2.....\n",
    "#5,3,1,0,2,5,.......\n",
    " \n",
    "data = pd.read_csv('dataset.csv')\n",
    "data = shuffle(data)\n",
    "print(data)"
   ]
  },
  {
   "cell_type": "code",
   "execution_count": 16,
   "id": "8ecd8807",
   "metadata": {},
   "outputs": [],
   "source": [
    "X = data.drop([\"label\"],axis=1)\n",
    "Y= data[\"label\"]"
   ]
  },
  {
   "cell_type": "code",
   "execution_count": 17,
   "id": "c8aa9079",
   "metadata": {},
   "outputs": [
    {
     "name": "stdout",
     "output_type": "stream",
     "text": [
      "1\n"
     ]
    },
    {
     "data": {
      "text/plain": [
       "<matplotlib.image.AxesImage at 0x1d75bedd978>"
      ]
     },
     "execution_count": 17,
     "metadata": {},
     "output_type": "execute_result"
    },
    {
     "data": {
      "image/png": "[encoded data removed]",
      "text/plain": [
       "<Figure size 640x480 with 1 Axes>"
      ]
     },
     "metadata": {},
     "output_type": "display_data"
    }
   ],
   "source": [
    "%matplotlib inline\n",
    "import matplotlib.pyplot as plt\n",
    "import cv2\n",
    "idx = 90\n",
    "img = X.loc[idx].values.reshape(28,28)\n",
    "print(Y[idx])\n",
    "plt.imshow(img)"
   ]
  },
  {
   "cell_type": "code",
   "execution_count": 18,
   "id": "96c48ac0",
   "metadata": {},
   "outputs": [],
   "source": [
    "from sklearn.model_selection import train_test_split\n",
    "train_x,test_x,train_y,test_y = train_test_split(X,Y, test_size = 0.2)"
   ]
  },
  {
   "cell_type": "code",
   "execution_count": 19,
   "id": "30ab324e",
   "metadata": {},
   "outputs": [
    {
     "data": {
      "text/plain": [
       "['model/digit_recognizer']"
      ]
     },
     "execution_count": 19,
     "metadata": {},
     "output_type": "execute_result"
    }
   ],
   "source": [
    "import joblib\n",
    "from sklearn.svm import SVC\n",
    "classifier=SVC(kernel=\"linear\", random_state=6)\n",
    "classifier.fit(train_x,train_y)\n",
    "joblib.dump(classifier, \"model/digit_recognizer\")"
   ]
  },
  {
   "cell_type": "code",
   "execution_count": 20,
   "id": "b9b1a572",
   "metadata": {},
   "outputs": [
    {
     "name": "stdout",
     "output_type": "stream",
     "text": [
      "Accuracy=  0.9\n"
     ]
    }
   ],
   "source": [
    "from sklearn import metrics\n",
    "prediction=classifier.predict(test_x)\n",
    "print(\"Accuracy= \",metrics.accuracy_score(prediction, test_y))"
   ]
  },
  {
   "cell_type": "code",
   "execution_count": 23,
   "id": "765838e4",
   "metadata": {
    "scrolled": false
   },
   "outputs": [
    {
     "name": "stderr",
     "output_type": "stream",
     "text": [
      "c:\\users\\lenovo\\appdata\\local\\programs\\python\\python37\\lib\\site-packages\\sklearn\\base.py:451: UserWarning: X does not have valid feature names, but SVC was fitted with feature names\n",
      "  \"X does not have valid feature names, but\"\n"
     ]
    },
    {
     "name": "stdout",
     "output_type": "stream",
     "text": [
      "Prediction: 8\n"
     ]
    },
    {
     "name": "stderr",
     "output_type": "stream",
     "text": [
      "c:\\users\\lenovo\\appdata\\local\\programs\\python\\python37\\lib\\site-packages\\sklearn\\base.py:451: UserWarning: X does not have valid feature names, but SVC was fitted with feature names\n",
      "  \"X does not have valid feature names, but\"\n"
     ]
    },
    {
     "name": "stdout",
     "output_type": "stream",
     "text": [
      "Prediction: 8\n"
     ]
    },
    {
     "name": "stderr",
     "output_type": "stream",
     "text": [
      "c:\\users\\lenovo\\appdata\\local\\programs\\python\\python37\\lib\\site-packages\\sklearn\\base.py:451: UserWarning: X does not have valid feature names, but SVC was fitted with feature names\n",
      "  \"X does not have valid feature names, but\"\n"
     ]
    },
    {
     "name": "stdout",
     "output_type": "stream",
     "text": [
      "Prediction: 8\n"
     ]
    },
    {
     "name": "stderr",
     "output_type": "stream",
     "text": [
      "c:\\users\\lenovo\\appdata\\local\\programs\\python\\python37\\lib\\site-packages\\sklearn\\base.py:451: UserWarning: X does not have valid feature names, but SVC was fitted with feature names\n",
      "  \"X does not have valid feature names, but\"\n"
     ]
    },
    {
     "name": "stdout",
     "output_type": "stream",
     "text": [
      "Prediction: 8\n"
     ]
    },
    {
     "name": "stderr",
     "output_type": "stream",
     "text": [
      "c:\\users\\lenovo\\appdata\\local\\programs\\python\\python37\\lib\\site-packages\\sklearn\\base.py:451: UserWarning: X does not have valid feature names, but SVC was fitted with feature names\n",
      "  \"X does not have valid feature names, but\"\n"
     ]
    },
    {
     "name": "stdout",
     "output_type": "stream",
     "text": [
      "Prediction: 8\n"
     ]
    },
    {
     "name": "stderr",
     "output_type": "stream",
     "text": [
      "c:\\users\\lenovo\\appdata\\local\\programs\\python\\python37\\lib\\site-packages\\sklearn\\base.py:451: UserWarning: X does not have valid feature names, but SVC was fitted with feature names\n",
      "  \"X does not have valid feature names, but\"\n"
     ]
    },
    {
     "name": "stdout",
     "output_type": "stream",
     "text": [
      "Prediction: 8\n"
     ]
    },
    {
     "name": "stderr",
     "output_type": "stream",
     "text": [
      "c:\\users\\lenovo\\appdata\\local\\programs\\python\\python37\\lib\\site-packages\\sklearn\\base.py:451: UserWarning: X does not have valid feature names, but SVC was fitted with feature names\n",
      "  \"X does not have valid feature names, but\"\n"
     ]
    },
    {
     "name": "stdout",
     "output_type": "stream",
     "text": [
      "Prediction: 8\n"
     ]
    },
    {
     "name": "stderr",
     "output_type": "stream",
     "text": [
      "c:\\users\\lenovo\\appdata\\local\\programs\\python\\python37\\lib\\site-packages\\sklearn\\base.py:451: UserWarning: X does not have valid feature names, but SVC was fitted with feature names\n",
      "  \"X does not have valid feature names, but\"\n"
     ]
    },
    {
     "name": "stdout",
     "output_type": "stream",
     "text": [
      "Prediction: 8\n"
     ]
    },
    {
     "name": "stderr",
     "output_type": "stream",
     "text": [
      "c:\\users\\lenovo\\appdata\\local\\programs\\python\\python37\\lib\\site-packages\\sklearn\\base.py:451: UserWarning: X does not have valid feature names, but SVC was fitted with feature names\n",
      "  \"X does not have valid feature names, but\"\n"
     ]
    },
    {
     "name": "stdout",
     "output_type": "stream",
     "text": [
      "Prediction: 8\n"
     ]
    },
    {
     "name": "stderr",
     "output_type": "stream",
     "text": [
      "c:\\users\\lenovo\\appdata\\local\\programs\\python\\python37\\lib\\site-packages\\sklearn\\base.py:451: UserWarning: X does not have valid feature names, but SVC was fitted with feature names\n",
      "  \"X does not have valid feature names, but\"\n"
     ]
    },
    {
     "name": "stdout",
     "output_type": "stream",
     "text": [
      "Prediction: 8\n"
     ]
    },
    {
     "name": "stderr",
     "output_type": "stream",
     "text": [
      "c:\\users\\lenovo\\appdata\\local\\programs\\python\\python37\\lib\\site-packages\\sklearn\\base.py:451: UserWarning: X does not have valid feature names, but SVC was fitted with feature names\n",
      "  \"X does not have valid feature names, but\"\n"
     ]
    },
    {
     "name": "stdout",
     "output_type": "stream",
     "text": [
      "Prediction: 8\n"
     ]
    },
    {
     "name": "stderr",
     "output_type": "stream",
     "text": [
      "c:\\users\\lenovo\\appdata\\local\\programs\\python\\python37\\lib\\site-packages\\sklearn\\base.py:451: UserWarning: X does not have valid feature names, but SVC was fitted with feature names\n",
      "  \"X does not have valid feature names, but\"\n"
     ]
    },
    {
     "name": "stdout",
     "output_type": "stream",
     "text": [
      "Prediction: 8\n"
     ]
    },
    {
     "name": "stderr",
     "output_type": "stream",
     "text": [
      "c:\\users\\lenovo\\appdata\\local\\programs\\python\\python37\\lib\\site-packages\\sklearn\\base.py:451: UserWarning: X does not have valid feature names, but SVC was fitted with feature names\n",
      "  \"X does not have valid feature names, but\"\n"
     ]
    },
    {
     "name": "stdout",
     "output_type": "stream",
     "text": [
      "Prediction: 8\n"
     ]
    },
    {
     "name": "stderr",
     "output_type": "stream",
     "text": [
      "c:\\users\\lenovo\\appdata\\local\\programs\\python\\python37\\lib\\site-packages\\sklearn\\base.py:451: UserWarning: X does not have valid feature names, but SVC was fitted with feature names\n",
      "  \"X does not have valid feature names, but\"\n"
     ]
    },
    {
     "name": "stdout",
     "output_type": "stream",
     "text": [
      "Prediction: 8\n"
     ]
    },
    {
     "name": "stderr",
     "output_type": "stream",
     "text": [
      "c:\\users\\lenovo\\appdata\\local\\programs\\python\\python37\\lib\\site-packages\\sklearn\\base.py:451: UserWarning: X does not have valid feature names, but SVC was fitted with feature names\n",
      "  \"X does not have valid feature names, but\"\n"
     ]
    },
    {
     "name": "stdout",
     "output_type": "stream",
     "text": [
      "Prediction: 8\n"
     ]
    },
    {
     "name": "stderr",
     "output_type": "stream",
     "text": [
      "c:\\users\\lenovo\\appdata\\local\\programs\\python\\python37\\lib\\site-packages\\sklearn\\base.py:451: UserWarning: X does not have valid feature names, but SVC was fitted with feature names\n",
      "  \"X does not have valid feature names, but\"\n"
     ]
    },
    {
     "name": "stdout",
     "output_type": "stream",
     "text": [
      "Prediction: 8\n",
      "Prediction: 8\n"
     ]
    },
    {
     "name": "stderr",
     "output_type": "stream",
     "text": [
      "c:\\users\\lenovo\\appdata\\local\\programs\\python\\python37\\lib\\site-packages\\sklearn\\base.py:451: UserWarning: X does not have valid feature names, but SVC was fitted with feature names\n",
      "  \"X does not have valid feature names, but\"\n"
     ]
    }
   ],
   "source": [
    "#prediction of image drawn in paint\n",
    "  \n",
    "import joblib\n",
    "import cv2\n",
    "import numpy as np #pip install numpy\n",
    "import time\n",
    "import pyscreenshot as ImageGrab\n",
    "  \n",
    "model=joblib.load(\"model/digit_recognizer\")\n",
    "images_folder=\"img/\"\n",
    "  \n",
    "while True:\n",
    "   img=ImageGrab.grab(bbox=(60,170,400,500))\n",
    "    \n",
    "   img.save(images_folder+\"img.png\")\n",
    "   im = cv2.imread(images_folder+\"img.png\")\n",
    "   im_gray = cv2.cvtColor(im,cv2.COLOR_BGR2GRAY)\n",
    "   im_gray  =cv2.GaussianBlur(im_gray, (15,15), 0)\n",
    "    \n",
    "   #Threshold the image\n",
    "   ret, im_th = cv2.threshold(im_gray,100, 255, cv2.THRESH_BINARY)\n",
    "   roi = cv2.resize(im_th, (28,28), interpolation  =cv2.INTER_AREA)\n",
    "    \n",
    "   rows,cols=roi.shape\n",
    "    \n",
    "   X=[]\n",
    "    \n",
    "   ##  Fill the data array with pixels one by one.\n",
    "   for i in range(rows):\n",
    "       for j in range(cols):\n",
    "           k = roi[i,j]\n",
    "           if k>100:\n",
    "               k=1\n",
    "           else:\n",
    "               k=0\n",
    "           X.append(k)\n",
    "            \n",
    "   predictions  =model.predict([X])\n",
    "   print(\"Prediction:\",predictions[0])\n",
    "   cv2.putText(im, \"Prediction is: \"+str(predictions[0]), (40,40), 0, 0.8,(0,255,0),2,cv2.LINE_AA)\n",
    "    \n",
    "   cv2.startWindowThread()\n",
    "   cv2.namedWindow(\"Result\")\n",
    "   cv2.imshow(\"Result\",im)\n",
    "   cv2.waitKey(100)\n",
    "    \n",
    "   if cv2.waitKey(1)==13: #27 is the ascii value of esc, 13 is the ascii value of enter\n",
    "       break\n",
    "cv2.destroyAllWindows()"
   ]
  },
  {
   "cell_type": "code",
   "execution_count": null,
   "id": "8bde1647",
   "metadata": {},
   "outputs": [
    {
     "name": "stderr",
     "output_type": "stream",
     "text": [
      "c:\\users\\lenovo\\appdata\\local\\programs\\python\\python37\\lib\\site-packages\\sklearn\\base.py:451: UserWarning: X does not have valid feature names, but SVC was fitted with feature names\n",
      "  \"X does not have valid feature names, but\"\n"
     ]
    },
    {
     "name": "stdout",
     "output_type": "stream",
     "text": [
      "Prediction: 8\n"
     ]
    },
    {
     "name": "stderr",
     "output_type": "stream",
     "text": [
      "c:\\users\\lenovo\\appdata\\local\\programs\\python\\python37\\lib\\site-packages\\sklearn\\base.py:451: UserWarning: X does not have valid feature names, but SVC was fitted with feature names\n",
      "  \"X does not have valid feature names, but\"\n"
     ]
    },
    {
     "name": "stdout",
     "output_type": "stream",
     "text": [
      "Prediction: 1\n"
     ]
    },
    {
     "name": "stderr",
     "output_type": "stream",
     "text": [
      "c:\\users\\lenovo\\appdata\\local\\programs\\python\\python37\\lib\\site-packages\\sklearn\\base.py:451: UserWarning: X does not have valid feature names, but SVC was fitted with feature names\n",
      "  \"X does not have valid feature names, but\"\n"
     ]
    },
    {
     "name": "stdout",
     "output_type": "stream",
     "text": [
      "Prediction: 0\n"
     ]
    },
    {
     "name": "stderr",
     "output_type": "stream",
     "text": [
      "c:\\users\\lenovo\\appdata\\local\\programs\\python\\python37\\lib\\site-packages\\sklearn\\base.py:451: UserWarning: X does not have valid feature names, but SVC was fitted with feature names\n",
      "  \"X does not have valid feature names, but\"\n"
     ]
    },
    {
     "name": "stdout",
     "output_type": "stream",
     "text": [
      "Prediction: 0\n"
     ]
    },
    {
     "name": "stderr",
     "output_type": "stream",
     "text": [
      "c:\\users\\lenovo\\appdata\\local\\programs\\python\\python37\\lib\\site-packages\\sklearn\\base.py:451: UserWarning: X does not have valid feature names, but SVC was fitted with feature names\n",
      "  \"X does not have valid feature names, but\"\n"
     ]
    },
    {
     "name": "stdout",
     "output_type": "stream",
     "text": [
      "Prediction: 1\n"
     ]
    },
    {
     "name": "stderr",
     "output_type": "stream",
     "text": [
      "c:\\users\\lenovo\\appdata\\local\\programs\\python\\python37\\lib\\site-packages\\sklearn\\base.py:451: UserWarning: X does not have valid feature names, but SVC was fitted with feature names\n",
      "  \"X does not have valid feature names, but\"\n"
     ]
    },
    {
     "name": "stdout",
     "output_type": "stream",
     "text": [
      "Prediction: 0\n"
     ]
    },
    {
     "name": "stderr",
     "output_type": "stream",
     "text": [
      "c:\\users\\lenovo\\appdata\\local\\programs\\python\\python37\\lib\\site-packages\\sklearn\\base.py:451: UserWarning: X does not have valid feature names, but SVC was fitted with feature names\n",
      "  \"X does not have valid feature names, but\"\n"
     ]
    },
    {
     "name": "stdout",
     "output_type": "stream",
     "text": [
      "Prediction: 0\n"
     ]
    },
    {
     "name": "stderr",
     "output_type": "stream",
     "text": [
      "c:\\users\\lenovo\\appdata\\local\\programs\\python\\python37\\lib\\site-packages\\sklearn\\base.py:451: UserWarning: X does not have valid feature names, but SVC was fitted with feature names\n",
      "  \"X does not have valid feature names, but\"\n"
     ]
    },
    {
     "name": "stdout",
     "output_type": "stream",
     "text": [
      "Prediction: 0\n"
     ]
    },
    {
     "name": "stderr",
     "output_type": "stream",
     "text": [
      "c:\\users\\lenovo\\appdata\\local\\programs\\python\\python37\\lib\\site-packages\\sklearn\\base.py:451: UserWarning: X does not have valid feature names, but SVC was fitted with feature names\n",
      "  \"X does not have valid feature names, but\"\n"
     ]
    },
    {
     "name": "stdout",
     "output_type": "stream",
     "text": [
      "Prediction: 2\n"
     ]
    },
    {
     "name": "stderr",
     "output_type": "stream",
     "text": [
      "c:\\users\\lenovo\\appdata\\local\\programs\\python\\python37\\lib\\site-packages\\sklearn\\base.py:451: UserWarning: X does not have valid feature names, but SVC was fitted with feature names\n",
      "  \"X does not have valid feature names, but\"\n"
     ]
    },
    {
     "name": "stdout",
     "output_type": "stream",
     "text": [
      "Prediction: 2\n"
     ]
    },
    {
     "name": "stderr",
     "output_type": "stream",
     "text": [
      "c:\\users\\lenovo\\appdata\\local\\programs\\python\\python37\\lib\\site-packages\\sklearn\\base.py:451: UserWarning: X does not have valid feature names, but SVC was fitted with feature names\n",
      "  \"X does not have valid feature names, but\"\n"
     ]
    },
    {
     "name": "stdout",
     "output_type": "stream",
     "text": [
      "Prediction: 2\n"
     ]
    }
   ],
   "source": [
    "import tkinter as tk\n",
    "from tkinter import *\n",
    "from tkinter import messagebox\n",
    "  \n",
    "window=tk.Tk()\n",
    "window.title(\"Handwritten digit recognition\")\n",
    "  \n",
    "l1=tk.Label(window,text=\"Digit\",font=('Algerian',20))\n",
    "l1.place(x=5,y=0)\n",
    "  \n",
    "t1=tk.Entry(window,width=20, border=5)\n",
    "t1.place(x=150, y=0)\n",
    "  \n",
    "def screen_capture():\n",
    "   import pyscreenshot as ImageGrab\n",
    "   import time\n",
    "   import os\n",
    "   os.startfile(\"C:/ProgramData/Microsoft/Windows/Start Menu/Programs/Accessories/Paint\")\n",
    "   s1=t1.get()\n",
    "   os.chdir(\"E:/DS and ML/Untitled Folder/Untitled Folder/captured_images\")\n",
    "   os.mkdir(s1)\n",
    "   os.chdir(\"E:/DS and ML/Untitled Folder/Untitled Folder/\")\n",
    "  \n",
    "   images_folder=\"captured_images/\"+s1+\"/\"\n",
    "   time.sleep(15)\n",
    "   for i in range(0,5):\n",
    "       time.sleep(8)\n",
    "       im=ImageGrab.grab(bbox=(60,170,400,550)) #x1,y1,x2,y2\n",
    "       print(\"saved......\",i)\n",
    "       im.save(images_folder+str(i)+'.png')\n",
    "       print(\"clear screen now and redraw now........\")\n",
    "   messagebox.showinfo(\"Result\",\"Capturing screen is completed!!\")\n",
    "    \n",
    "b1=tk.Button(window,text=\"1. Open paint and capture the screen\", font=('Algerian',15),bg=\"orange\",fg=\"black\",command=screen_capture)\n",
    "b1.place(x=5, y=50)\n",
    "  \n",
    "def generate_dataset():\n",
    "   import cv2\n",
    "   import csv\n",
    "   import glob\n",
    "  \n",
    "   header  =[\"label\"]\n",
    "   for i in range(0,784):\n",
    "       header.append(\"pixel\"+str(i))\n",
    "   with open('dataset.csv', 'a') as f:\n",
    "       writer = csv.writer(f)\n",
    "       writer.writerow(header)\n",
    "  \n",
    "   for label in range(10):\n",
    "       dirList = glob.glob(\"captured_images/\"+str(label)+\"/*.png\")\n",
    "  \n",
    "       for img_path in dirList:\n",
    "           im= cv2.imread(img_path)\n",
    "           im_gray = cv2.cvtColor(im,cv2.COLOR_BGR2GRAY)\n",
    "           im_gray = cv2.GaussianBlur(im_gray,(15,15), 0)\n",
    "           roi= cv2.resize(im_gray,(28,28), interpolation=cv2.INTER_AREA)\n",
    "  \n",
    "           data=[]\n",
    "           data.append(label)\n",
    "           rows, cols = roi.shape\n",
    "  \n",
    "           ##  Fill the data array with pixels one by one.\n",
    "           for i in range(rows):\n",
    "               for j in range(cols):\n",
    "                   k =roi[i,j]\n",
    "                   if k>100:\n",
    "                       k=1\n",
    "                   else:\n",
    "                       k=0\n",
    "                   data.append(k)\n",
    "           with open('dataset.csv', 'a') as f:\n",
    "               writer = csv.writer(f)\n",
    "               writer.writerow(data)\n",
    "   messagebox.showinfo(\"Result\",\"Generating dataset is completed!!\")\n",
    "    \n",
    "b2=tk.Button(window,text=\"2. Generate dataset\", font=('Algerian',15),bg=\"pink\",fg=\"blue\",command=generate_dataset)\n",
    "b2.place(x=5, y=100)\n",
    "  \n",
    "def train_save_accuracy():\n",
    "   import pandas as pd\n",
    "   from sklearn.utils import shuffle\n",
    "   data  =pd.read_csv('dataset.csv')\n",
    "   data=shuffle(data)\n",
    "   X = data.drop([\"label\"],axis=1)\n",
    "   Y= data[\"label\"]\n",
    "   from sklearn.model_selection import train_test_split\n",
    "   train_x,test_x,train_y,test_y = train_test_split(X,Y, test_size = 0.2)\n",
    "   import joblib\n",
    "   from sklearn.svm import SVC\n",
    "   classifier=SVC(kernel=\"linear\", random_state=6)\n",
    "   classifier.fit(train_x,train_y)\n",
    "   joblib.dump(classifier, \"model/digit_recognizer\")\n",
    "   from sklearn import metrics\n",
    "   prediction=classifier.predict(test_x)\n",
    "   acc=metrics.accuracy_score(prediction, test_y)\n",
    "   messagebox.showinfo(\"Result\",f\"Your accuracy is {acc}\")\n",
    "    \n",
    "b3=tk.Button(window,text=\"3. Train the model, save it and calculate accuracy\", font=('Algerian',15),bg=\"green\",fg=\"white\",command=train_save_accuracy)\n",
    "b3.place(x=5, y=150)\n",
    "  \n",
    "def prediction():\n",
    "   import joblib\n",
    "   import cv2\n",
    "   import numpy as np #pip install numpy\n",
    "   import time\n",
    "   import pyscreenshot as ImageGrab\n",
    "   import os\n",
    "   os.startfile(\"C:/ProgramData/Microsoft/Windows/Start Menu/Programs/Accessories/Paint\")\n",
    "    \n",
    "   model=joblib.load(\"model/digit_recognizer\")\n",
    "   images_folder=\"img/\"\n",
    "   time.sleep(15)\n",
    "   while True:\n",
    "       img=ImageGrab.grab(bbox=(60,170,400,500))\n",
    "  \n",
    "       img.save(images_folder+\"img.png\")\n",
    "       im = cv2.imread(images_folder+\"img.png\")\n",
    "       im_gray = cv2.cvtColor(im,cv2.COLOR_BGR2GRAY)\n",
    "       im_gray  =cv2.GaussianBlur(im_gray, (15,15), 0)\n",
    "  \n",
    "       #Threshold the image\n",
    "       ret, im_th = cv2.threshold(im_gray,100, 255, cv2.THRESH_BINARY)\n",
    "       roi = cv2.resize(im_th, (28,28), interpolation  =cv2.INTER_AREA)\n",
    "  \n",
    "       rows,cols=roi.shape\n",
    "  \n",
    "       X = []\n",
    "  \n",
    "       ##  Fill the data array with pixels one by one.\n",
    "       for i in range(rows):\n",
    "           for j in range(cols):\n",
    "               k = roi[i,j]\n",
    "               if k>100:\n",
    "                   k=1\n",
    "               else:\n",
    "                   k=0\n",
    "               X.append(k)\n",
    "  \n",
    "       predictions  =model.predict([X])\n",
    "       print(\"Prediction:\",predictions[0])\n",
    "       cv2.putText(im, \"Prediction is: \"+str(predictions[0]), (20,20), 0, 0.8,(0,255,0),2,cv2.LINE_AA)\n",
    "  \n",
    "       cv2.startWindowThread()\n",
    "       cv2.namedWindow(\"Result\")\n",
    "       cv2.imshow(\"Result\",im)\n",
    "       cv2.waitKey(10000)\n",
    "       if cv2.waitKey(1)==13: #27 is the ascii value of esc, 13 is the ascii value of enter\n",
    "           break\n",
    "   cv2.destroyAllWindows()\n",
    "    \n",
    "b4=tk.Button(window,text=\"4. Live prediction\", font=('Algerian',15),bg=\"white\",fg=\"red\",command=prediction)\n",
    "b4.place(x=5, y=200)\n",
    "  \n",
    "window.geometry(\"600x300\")\n",
    "window.mainloop()\n"
   ]
  },
  {
   "cell_type": "code",
   "execution_count": null,
   "id": "b6e2545c",
   "metadata": {},
   "outputs": [],
   "source": []
  }
 ],
 "metadata": {
  "kernelspec": {
   "display_name": "Python 3 (ipykernel)",
   "language": "python",
   "name": "python3"
  },
  "language_info": {
   "codemirror_mode": {
    "name": "ipython",
    "version": 3
   },
   "file_extension": ".py",
   "mimetype": "text/x-python",
   "name": "python",
   "nbconvert_exporter": "python",
   "pygments_lexer": "ipython3",
   "version": "3.7.0b2"
  }
 },
 "nbformat": 4,
 "nbformat_minor": 5
}
